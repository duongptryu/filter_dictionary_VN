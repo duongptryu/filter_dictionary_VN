{
 "cells": [
  {
   "cell_type": "code",
   "execution_count": 154,
   "id": "7574a3e7",
   "metadata": {},
   "outputs": [],
   "source": [
    "words = open(\"output.txt\", \"r\")"
   ]
  },
  {
   "cell_type": "code",
   "execution_count": 155,
   "id": "a0b9ba08",
   "metadata": {},
   "outputs": [],
   "source": [
    "words = words.read().split(\"\\n\")"
   ]
  },
  {
   "cell_type": "code",
   "execution_count": 156,
   "id": "bc88b6f4",
   "metadata": {},
   "outputs": [
    {
     "data": {
      "text/plain": [
       "['a',\n",
       " 'a',\n",
       " 'a ba giua',\n",
       " 'a ba toa',\n",
       " 'a bang',\n",
       " 'a bung',\n",
       " 'a di',\n",
       " 'a di da kinh',\n",
       " 'a di da phat',\n",
       " 'a di da phat']"
      ]
     },
     "execution_count": 156,
     "metadata": {},
     "output_type": "execute_result"
    }
   ],
   "source": [
    "words[:10]"
   ]
  },
  {
   "cell_type": "code",
   "execution_count": 157,
   "id": "c6eea448",
   "metadata": {},
   "outputs": [],
   "source": [
    "output = []"
   ]
  },
  {
   "cell_type": "code",
   "execution_count": 158,
   "id": "6736c596",
   "metadata": {},
   "outputs": [],
   "source": [
    "# for word in words:\n",
    "#     word = word.split(\" \")\n",
    "#     try:\n",
    "#         x = word[0] + word[-1]\n",
    "#     except:\n",
    "#         pass\n",
    "#     output.append(x)\n",
    "\n",
    "# for word in words:\n",
    "#     k = \"\"\n",
    "#     for x in word.split(\" \"):\n",
    "#         k = k + x[:2]\n",
    "#     output.append(k)\n",
    "\n",
    "# for word in words:\n",
    "#     k = word.split(\" \")\n",
    "#     try:\n",
    "#         output.append(k[0][:3] + k[-1][-3:])\n",
    "#     except:\n",
    "#         pass\n",
    "\n",
    "for word in words:\n",
    "    k = word.split(\" \")\n",
    "    try:\n",
    "        output.append(k[0][:2] + k[-1][-2:])\n",
    "    except:\n",
    "        pass"
   ]
  },
  {
   "cell_type": "code",
   "execution_count": 159,
   "id": "4759ae6e",
   "metadata": {},
   "outputs": [
    {
     "data": {
      "text/plain": [
       "73903"
      ]
     },
     "execution_count": 159,
     "metadata": {},
     "output_type": "execute_result"
    }
   ],
   "source": [
    "len(output)"
   ]
  },
  {
   "cell_type": "code",
   "execution_count": 160,
   "id": "51733dca",
   "metadata": {},
   "outputs": [
    {
     "data": {
      "text/plain": [
       "['aa', 'aa', 'aua', 'aoa', 'ang', 'ang', 'adi', 'anh', 'aat', 'aat']"
      ]
     },
     "execution_count": 160,
     "metadata": {},
     "output_type": "execute_result"
    }
   ],
   "source": [
    "output[:10]"
   ]
  },
  {
   "cell_type": "code",
   "execution_count": 161,
   "id": "68689070",
   "metadata": {},
   "outputs": [],
   "source": [
    "output = set(output)"
   ]
  },
  {
   "cell_type": "code",
   "execution_count": 162,
   "id": "dc3d78ea",
   "metadata": {},
   "outputs": [
    {
     "data": {
      "text/plain": [
       "8093"
      ]
     },
     "execution_count": 162,
     "metadata": {},
     "output_type": "execute_result"
    }
   ],
   "source": [
    "len(output)"
   ]
  },
  {
   "cell_type": "code",
   "execution_count": 163,
   "id": "abaa8624",
   "metadata": {},
   "outputs": [],
   "source": [
    "output = list(output)\n",
    "output.sort()"
   ]
  },
  {
   "cell_type": "code",
   "execution_count": 164,
   "id": "fc018aa1",
   "metadata": {},
   "outputs": [],
   "source": [
    "output = list(map(lambda word: word + \".vn\", output))"
   ]
  },
  {
   "cell_type": "code",
   "execution_count": 165,
   "id": "11dcb31f",
   "metadata": {},
   "outputs": [
    {
     "data": {
      "text/plain": [
       "['.vn',\n",
       " 'a,,a.vn',\n",
       " 'a,a.vn',\n",
       " 'aa.vn',\n",
       " 'aac.vn',\n",
       " 'aai.vn',\n",
       " 'aam.vn',\n",
       " 'aan.vn',\n",
       " 'aao.vn',\n",
       " 'aap.vn']"
      ]
     },
     "execution_count": 165,
     "metadata": {},
     "output_type": "execute_result"
    }
   ],
   "source": [
    "output[:10]"
   ]
  },
  {
   "cell_type": "code",
   "execution_count": 166,
   "id": "a8dd1971",
   "metadata": {},
   "outputs": [],
   "source": [
    "import csv"
   ]
  },
  {
   "cell_type": "code",
   "execution_count": 167,
   "id": "1b76ecdc",
   "metadata": {},
   "outputs": [],
   "source": [
    "with open('2 chu cai dau - 2 chu cai cuoi.csv', 'w', newline='') as student_file:\n",
    "    writer = csv.writer(student_file)\n",
    "    writer.writerow([\"domain\"])\n",
    "    for word in output:\n",
    "        writer.writerow([word])"
   ]
  },
  {
   "cell_type": "code",
   "execution_count": null,
   "id": "1557f10e",
   "metadata": {},
   "outputs": [],
   "source": []
  }
 ],
 "metadata": {
  "kernelspec": {
   "display_name": "Python 3",
   "language": "python",
   "name": "python3"
  },
  "language_info": {
   "codemirror_mode": {
    "name": "ipython",
    "version": 3
   },
   "file_extension": ".py",
   "mimetype": "text/x-python",
   "name": "python",
   "nbconvert_exporter": "python",
   "pygments_lexer": "ipython3",
   "version": "3.7.9"
  }
 },
 "nbformat": 4,
 "nbformat_minor": 5
}
