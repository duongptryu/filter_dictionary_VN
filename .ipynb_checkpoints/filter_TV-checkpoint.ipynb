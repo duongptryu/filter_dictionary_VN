{
 "cells": [
  {
   "cell_type": "code",
   "execution_count": 1,
   "id": "8268ac9e",
   "metadata": {},
   "outputs": [],
   "source": [
    "dict_vn = open(\"words.txt\", \"r\", encoding=\"utf8\")"
   ]
  },
  {
   "cell_type": "code",
   "execution_count": 2,
   "id": "0cbdd25d",
   "metadata": {},
   "outputs": [],
   "source": [
    "dict_vn = dict_vn.read()"
   ]
  },
  {
   "cell_type": "code",
   "execution_count": 3,
   "id": "bc59414f",
   "metadata": {},
   "outputs": [],
   "source": [
    "import re"
   ]
  },
  {
   "cell_type": "code",
   "execution_count": 4,
   "id": "bfa393cb",
   "metadata": {},
   "outputs": [],
   "source": [
    "list_vn = re.findall(r'\"(.*?)\"',dict_vn)"
   ]
  },
  {
   "cell_type": "code",
   "execution_count": 5,
   "id": "4784bf1f",
   "metadata": {},
   "outputs": [
    {
     "data": {
      "text/plain": [
       "['text',\n",
       " 'a',\n",
       " 'source',\n",
       " 'hongocduc',\n",
       " 'text',\n",
       " 'A',\n",
       " 'source',\n",
       " 'hongocduc',\n",
       " 'text',\n",
       " 'a-ba-giua']"
      ]
     },
     "execution_count": 5,
     "metadata": {},
     "output_type": "execute_result"
    }
   ],
   "source": [
    "list_vn[:10]"
   ]
  },
  {
   "cell_type": "code",
   "execution_count": 6,
   "id": "7339c894",
   "metadata": {},
   "outputs": [],
   "source": [
    "list_vn = list(filter(lambda word: (word != 'text' and word != 'source' and word !='hongocduc'), list_vn))"
   ]
  },
  {
   "cell_type": "code",
   "execution_count": 7,
   "id": "11e81ff5",
   "metadata": {},
   "outputs": [
    {
     "data": {
      "text/plain": [
       "73902"
      ]
     },
     "execution_count": 7,
     "metadata": {},
     "output_type": "execute_result"
    }
   ],
   "source": [
    "len(list_vn)"
   ]
  },
  {
   "cell_type": "code",
   "execution_count": 8,
   "id": "6ce3a0c8",
   "metadata": {},
   "outputs": [],
   "source": [
    "list_vn = list(map(lambda word: word.replace(\"-\",\" \").replace(\"_\", \" \"), list_vn))"
   ]
  },
  {
   "cell_type": "code",
   "execution_count": 9,
   "id": "709a8013",
   "metadata": {},
   "outputs": [],
   "source": [
    "def no_accent_vietnamese(s):\n",
    "    s = re.sub(r'[àáạảãâầấậẩẫăằắặẳẵ]', 'a', s)\n",
    "    s = re.sub(r'[ÀÁẠẢÃĂẰẮẶẲẴÂẦẤẬẨẪ]', 'A', s)\n",
    "    s = re.sub(r'[èéẹẻẽêềếệểễ]', 'e', s)\n",
    "    s = re.sub(r'[ÈÉẸẺẼÊỀẾỆỂỄ]', 'E', s)\n",
    "    s = re.sub(r'[òóọỏõôồốộổỗơờớợởỡ]', 'o', s)\n",
    "    s = re.sub(r'[ÒÓỌỎÕÔỒỐỘỔỖƠỜỚỢỞỠ]', 'O', s)\n",
    "    s = re.sub(r'[ìíịỉĩ]', 'i', s)\n",
    "    s = re.sub(r'[ÌÍỊỈĨ]', 'I', s)\n",
    "    s = re.sub(r'[ùúụủũưừứựửữ]', 'u', s)\n",
    "    s = re.sub(r'[ƯỪỨỰỬỮÙÚỤỦŨ]', 'U', s)\n",
    "    s = re.sub(r'[ỳýỵỷỹ]', 'y', s)\n",
    "    s = re.sub(r'[ỲÝỴỶỸ]', 'Y', s)\n",
    "    s = re.sub(r'[Đ]', 'D', s)\n",
    "    s = re.sub(r'[đ]', 'd', s)\n",
    "    return s"
   ]
  },
  {
   "cell_type": "code",
   "execution_count": 10,
   "id": "385949a1",
   "metadata": {},
   "outputs": [],
   "source": [
    "list_vn = list(map(no_accent_vietnamese, list_vn))"
   ]
  },
  {
   "cell_type": "code",
   "execution_count": 13,
   "id": "14db00e2",
   "metadata": {},
   "outputs": [
    {
     "data": {
      "text/plain": [
       "['a',\n",
       " 'A',\n",
       " 'a ba giua',\n",
       " 'a ba toa',\n",
       " 'a bang',\n",
       " 'A Bung',\n",
       " 'A Di',\n",
       " 'A Di Da kinh',\n",
       " 'A di da phat',\n",
       " 'A Di Da Phat']"
      ]
     },
     "execution_count": 13,
     "metadata": {},
     "output_type": "execute_result"
    }
   ],
   "source": [
    "list_vn[:10]"
   ]
  },
  {
   "cell_type": "code",
   "execution_count": 14,
   "id": "8fd2f9f1",
   "metadata": {},
   "outputs": [],
   "source": [
    "list_vn = list(map(lambda word: word.lower(), list_vn))"
   ]
  },
  {
   "cell_type": "code",
   "execution_count": 16,
   "id": "40908d9d",
   "metadata": {},
   "outputs": [
    {
     "data": {
      "text/plain": [
       "73902"
      ]
     },
     "execution_count": 16,
     "metadata": {},
     "output_type": "execute_result"
    }
   ],
   "source": [
    "len(list_vn)"
   ]
  },
  {
   "cell_type": "code",
   "execution_count": 19,
   "id": "0751a2f1",
   "metadata": {},
   "outputs": [],
   "source": [
    "list_vn = set(list_vn)"
   ]
  },
  {
   "cell_type": "code",
   "execution_count": 20,
   "id": "f0de78ed",
   "metadata": {},
   "outputs": [
    {
     "data": {
      "text/plain": [
       "60081"
      ]
     },
     "execution_count": 20,
     "metadata": {},
     "output_type": "execute_result"
    }
   ],
   "source": [
    "len(list_vn)"
   ]
  },
  {
   "cell_type": "code",
   "execution_count": 22,
   "id": "12411fc5",
   "metadata": {},
   "outputs": [],
   "source": [
    "with open(\"output.txt\", \"w\") as f:\n",
    "    for word in list_vn:\n",
    "        f.write(\"%s\\n\" % word)"
   ]
  },
  {
   "cell_type": "code",
   "execution_count": null,
   "id": "0d69c326",
   "metadata": {},
   "outputs": [],
   "source": []
  }
 ],
 "metadata": {
  "kernelspec": {
   "display_name": "Python 3",
   "language": "python",
   "name": "python3"
  },
  "language_info": {
   "codemirror_mode": {
    "name": "ipython",
    "version": 3
   },
   "file_extension": ".py",
   "mimetype": "text/x-python",
   "name": "python",
   "nbconvert_exporter": "python",
   "pygments_lexer": "ipython3",
   "version": "3.7.9"
  }
 },
 "nbformat": 4,
 "nbformat_minor": 5
}
